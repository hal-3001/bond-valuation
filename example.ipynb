{
 "cells": [
  {
   "cell_type": "code",
   "execution_count": 19,
   "metadata": {},
   "outputs": [
    {
     "name": "stdout",
     "output_type": "stream",
     "text": [
      "bond price:96.70576631332099,facevalue: 100, coupon: 0.05, no of coupon payments in a year: 2, no of year's till maturity: 5, ytm:0.057678\n",
      "0.057678\n",
      "96.70576631332099\n",
      "4.474897682461918\n",
      "4.349463504456886\n",
      "23.172360931099178\n",
      "0.025669969788091784\n"
     ]
    }
   ],
   "source": [
    "from bond import Bond\n",
    "bond1=Bond(100,0.05,2,5)\n",
    "bond1.ytm=0.057678\n",
    "print(bond1)\n",
    "print(bond1.bytm())\n",
    "print(bond1.bprice())\n",
    "print(bond1.macaulay_duration())\n",
    "print(bond1.modified_duration())\n",
    "print(bond1.convexity())\n",
    "print(bond1.price_pct_change(0.0025))\n"
   ]
  }
 ],
 "metadata": {
  "kernelspec": {
   "display_name": "base",
   "language": "python",
   "name": "python3"
  },
  "language_info": {
   "codemirror_mode": {
    "name": "ipython",
    "version": 3
   },
   "file_extension": ".py",
   "mimetype": "text/x-python",
   "name": "python",
   "nbconvert_exporter": "python",
   "pygments_lexer": "ipython3",
   "version": "3.9.12"
  },
  "orig_nbformat": 4,
  "vscode": {
   "interpreter": {
    "hash": "5ae58900cfbb8c43ab3495913814b7cf26024f51651a94ce8bf64d6111688e8d"
   }
  }
 },
 "nbformat": 4,
 "nbformat_minor": 2
}
